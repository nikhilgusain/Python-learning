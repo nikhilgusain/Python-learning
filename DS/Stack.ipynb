{
 "cells": [
  {
   "cell_type": "markdown",
   "id": "f7a762f3",
   "metadata": {},
   "source": [
    "### monotonic stack"
   ]
  },
  {
   "cell_type": "code",
   "execution_count": 8,
   "id": "d0e9715d",
   "metadata": {},
   "outputs": [
    {
     "name": "stdout",
     "output_type": "stream",
     "text": [
      "[0, 3, 6, -2, 4, 8, 10, 3]\n"
     ]
    },
    {
     "data": {
      "text/plain": [
       "[3, 6, 8, 4, 8, 10, -1, -1]"
      ]
     },
     "metadata": {},
     "output_type": "display_data"
    },
    {
     "data": {
      "text/plain": [
       "[-1, -1, -1, 6, 6, -1, -1, 10]"
      ]
     },
     "execution_count": 8,
     "metadata": {},
     "output_type": "execute_result"
    }
   ],
   "source": [
    "nums = [0,3,6,-2,4,8,10,3]\n",
    "# nums = [5, 5, 5]\n",
    "# nums = []\n",
    "next_max = []\n",
    "pre_max = []\n",
    "st = []\n",
    "\n",
    "n = len(nums)\n",
    "for i in range(n - 1, -1, -1):\n",
    "    while st and st[-1] <= nums[i]:\n",
    "        st.pop()\n",
    "    if not st:\n",
    "        next_max.append(-1)\n",
    "    else:\n",
    "        next_max.append(st[-1])\n",
    "    st.append(nums[i])\n",
    "\n",
    "next_max.reverse()\n",
    "\n",
    "st = []\n",
    "for i in range(n):\n",
    "    while st and st[-1] <= nums[i]:\n",
    "        st.pop()\n",
    "    if not st:\n",
    "        pre_max.append(-1)\n",
    "    else:\n",
    "        pre_max.append(st[-1])\n",
    "    st.append(nums[i])\n",
    "print(nums)\n",
    "display(next_max)\n",
    "pre_max"
   ]
  },
  {
   "cell_type": "code",
   "execution_count": null,
   "id": "cbc362c7",
   "metadata": {},
   "outputs": [],
   "source": [
    "nums = [0, 3, 6, -2, 4, 8, 10, 3]\n",
    "\n",
    "next_max = []\n",
    "pre_max = []\n",
    "\n",
    "n = len(nums)\n",
    "stack = []\n",
    "\n",
    "# 🔹 Next Greater Element (Right)\n",
    "for i in range(n - 1, -1, -1):\n",
    "    while stack and nums[stack[-1]] <= nums[i]:\n",
    "        stack.pop()\n",
    "    if not stack:\n",
    "        next_max.append(-1)\n",
    "    else:\n",
    "        next_max.append(nums[stack[-1]])\n",
    "    stack.append(i)\n",
    "next_max.reverse()\n",
    "\n",
    "# 🔹 Previous Greater Element (Left)\n",
    "stack = []\n",
    "for i in range(n):\n",
    "    while stack and nums[stack[-1]] <= nums[i]:\n",
    "        stack.pop()\n",
    "    if not stack:\n",
    "        pre_max.append(-1)\n",
    "    else:\n",
    "        pre_max.append(nums[stack[-1]])\n",
    "    stack.append(i)\n",
    "\n",
    "# 🔹 Output\n",
    "print(\"nums     :\", nums)\n",
    "print(\"next_max :\", next_max)\n",
    "print(\"pre_max  :\", pre_max)\n"
   ]
  },
  {
   "cell_type": "code",
   "execution_count": null,
   "id": "651acfa0",
   "metadata": {},
   "outputs": [
    {
     "name": "stdout",
     "output_type": "stream",
     "text": [
      "nums [0, 3, 6, -2, 4, 8, 10, 3]\n",
      "nge [3, 6, 8, 4, 8, 10, -1, -1]\n",
      "pge [-1, -1, -1, 6, 6, -1, -1, 10]\n"
     ]
    }
   ],
   "source": [
    "nums = [0, 3, 6, -2, 4, 8, 10, 3]\n",
    "n = len(nums)\n",
    "st = []\n",
    "pge = []\n",
    "nge = []\n",
    "\n",
    "# next greater element\n",
    "\n",
    "for r in range(n-1, -1, -1):\n",
    "    while st and st[-1] <= nums[r]:\n",
    "        st.pop()\n",
    "    if not st:\n",
    "        nge.append(-1)\n",
    "    else:\n",
    "        nge.append(st[-1])\n",
    "    st.append(nums[r])\n",
    "\n",
    "nge.reverse()\n",
    "\n",
    "# previosu greater element\n",
    "st = []\n",
    "for r in range(len(nums)):\n",
    "    while st and st[-1] <= nums[r]:\n",
    "        st.pop()\n",
    "    if not st:\n",
    "        pge.append(-1)\n",
    "    else:\n",
    "        pge.append(st[-1])class Solution:\n",
    "    def trap(self, height: List[int]) -> int:\n",
    "        \n",
    "        st = []\n",
    "        nge = []\n",
    "        pge = []\n",
    "        res = 0\n",
    "        n = len(heght)\n",
    "        for i in range(n-1, -1, -1):\n",
    "            while st and st[-1] <= nums[i]:\n",
    "                st.pop()\n",
    "            if not st:\n",
    "                nge.append(-1)\n",
    "            else:\n",
    "                nge.append(st[-1])\n",
    "            st.append(nums[i])\n",
    "        \n",
    "        nge.reverse()\n",
    "        st = []\n",
    "\n",
    "        for i in range(n):\n",
    "            while st and st[-1] <= nums[i]:\n",
    "                st.pop()\n",
    "            if not st:\n",
    "                pge.append(-1)\n",
    "            else:\n",
    "                pge.append(st[-1])\n",
    "            st.append(nums[i])\n",
    "        \n",
    "        for i in range(n):\n",
    "            water = min(nge, pge) - height[i]\n",
    "    st.append(nums[r])\n",
    "\n",
    "print(\"nums\", nums)\n",
    "print(\"nge\", nge)\n",
    "print(\"pge\", pge)  \n",
    "\n"
   ]
  }
 ],
 "metadata": {
  "kernelspec": {
   "display_name": "Python 3",
   "language": "python",
   "name": "python3"
  },
  "language_info": {
   "codemirror_mode": {
    "name": "ipython",
    "version": 3
   },
   "file_extension": ".py",
   "mimetype": "text/x-python",
   "name": "python",
   "nbconvert_exporter": "python",
   "pygments_lexer": "ipython3",
   "version": "3.12.1"
  }
 },
 "nbformat": 4,
 "nbformat_minor": 5
}
