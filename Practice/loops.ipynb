{
 "cells": [
  {
   "cell_type": "code",
   "execution_count": 5,
   "id": "ee2b8daf",
   "metadata": {},
   "outputs": [
    {
     "data": {
      "text/plain": [
       "[2, 2]"
      ]
     },
     "execution_count": 5,
     "metadata": {},
     "output_type": "execute_result"
    }
   ],
   "source": [
    "nums = [3,2,2,3]\n",
    "# 4,5]\n",
    "t = 3\n",
    "l = 0\n",
    "for r in range(len(nums)):\n",
    "    if nums[r] != t:\n",
    "        nums[l] = nums[r]\n",
    "        l+=1\n",
    "\n",
    "nums[:l]"
   ]
  },
  {
   "cell_type": "code",
   "execution_count": null,
   "id": "7242104d",
   "metadata": {},
   "outputs": [],
   "source": [
    "nums = [1,1,0,1,1,1]\n",
    "l  = 0\n",
    "ans = float('-inf')\n",
    "for n in nums:\n",
    "    if n == 1:\n",
    "        count+=1\n",
    "        ans = max(count, ans)\n",
    "    else:\n",
    "        count = 0\n",
    "    "
   ]
  },
  {
   "cell_type": "code",
   "execution_count": 68,
   "id": "bf3b879b",
   "metadata": {},
   "outputs": [
    {
     "data": {
      "text/plain": [
       "[1, 2, 2, 3, 4, 5, 5]"
      ]
     },
     "execution_count": 68,
     "metadata": {},
     "output_type": "execute_result"
    }
   ],
   "source": [
    "nums = [1,2,2,2,3,4,5,5]\n",
    "# nums = \n",
    "l = 0\n",
    "n = len(nums)\n",
    "r = 1\n",
    "count = 1\n",
    "while r < n:\n",
    "    if nums[r-1] == nums[r]:\n",
    "        count+=1\n",
    "    else:\n",
    "        count = 1\n",
    "    if count <=2:\n",
    "        l+=1\n",
    "        nums[l] = nums[r]\n",
    "    r+=1\n",
    "\n",
    "\n",
    "nums[:l+1]"
   ]
  },
  {
   "cell_type": "code",
   "execution_count": null,
   "id": "06adabbb",
   "metadata": {},
   "outputs": [
    {
     "data": {
      "text/plain": [
       "[1, 2, 3, 4, 5]"
      ]
     },
     "execution_count": 75,
     "metadata": {},
     "output_type": "execute_result"
    }
   ],
   "source": [
    "# remove duplicates in place\n",
    "nums = [1,2,2,2,3,4,5,5]\n",
    "l = 0\n",
    "n = len(nums)\n",
    "count = 1\n",
    "for r in range(1, n):\n",
    "    if nums[l] != nums[r]:\n",
    "        l+=1\n",
    "        nums[l] = nums[r]\n",
    "\n",
    "\n",
    "nums[:l+1]"
   ]
  },
  {
   "cell_type": "code",
   "execution_count": null,
   "id": "8539b441",
   "metadata": {},
   "outputs": [],
   "source": [
    "# remove duplicates in place II \n",
    "# keep max 2 duplicates\n",
    "\n",
    "nums = [1,2,2,2,3,4,5,5]\n",
    "l = 0\n",
    "n = len(nums)\n",
    "count = 1"
   ]
  },
  {
   "cell_type": "code",
   "execution_count": 4,
   "id": "2aa8c9e6",
   "metadata": {},
   "outputs": [
    {
     "data": {
      "text/plain": [
       "[1, 2, 3, 4, 5, 6]"
      ]
     },
     "execution_count": 4,
     "metadata": {},
     "output_type": "execute_result"
    }
   ],
   "source": [
    "# remove duplicated form sorted array\n",
    "nums = [1,1,2,3,3,3,3,4,5,5,6,6]\n",
    "l = 0\n",
    "for r in range(1, len(nums)):\n",
    "    if nums[r] != nums[l]:\n",
    "        l+=1\n",
    "        nums[l] = nums[r]\n",
    "        \n",
    "nums[:l+1]"
   ]
  },
  {
   "cell_type": "code",
   "execution_count": null,
   "id": "e732ff20",
   "metadata": {},
   "outputs": [],
   "source": []
  },
  {
   "cell_type": "code",
   "execution_count": null,
   "id": "b748320a",
   "metadata": {},
   "outputs": [
    {
     "data": {
      "text/plain": [
       "'a2b3c3'"
      ]
     },
     "execution_count": 58,
     "metadata": {},
     "output_type": "execute_result"
    }
   ],
   "source": [
    "s = \"aabbbccc\"\n",
    "res = \"\"\n",
    "l = 0\n",
    "count = 1\n",
    "for r in range(1, len(s)):\n",
    "    if s[l] == s[r]:\n",
    "        count+=1\n",
    "    else:\n",
    "        res+=( f\"{s[l] }{str(count)}\")\n",
    "        l = r\n",
    "        count = 1\n",
    "\n",
    "res+=( f\"{s[l]}{str(count)}\")\n",
    "res\n"
   ]
  },
  {
   "cell_type": "code",
   "execution_count": 59,
   "id": "7990c31c",
   "metadata": {},
   "outputs": [
    {
     "name": "stdout",
     "output_type": "stream",
     "text": [
      "a2b3c3\n"
     ]
    }
   ],
   "source": [
    "s = \"aabbbccc\"\n",
    "if not s:\n",
    "    print(\"\")\n",
    "\n",
    "res = []\n",
    "current = s[0]\n",
    "count = 1\n",
    "\n",
    "for char in s[1:]:\n",
    "    if char == current:\n",
    "        count += 1\n",
    "    else:\n",
    "        res.append(f\"{current}{count}\")\n",
    "        current = char\n",
    "        count = 1\n",
    "\n",
    "res.append(f\"{current}{count}\")\n",
    "print(\"\".join(res))  # Output: \"a2b3c3\""
   ]
  },
  {
   "cell_type": "code",
   "execution_count": 8,
   "id": "1d084b0f",
   "metadata": {},
   "outputs": [
    {
     "ename": "IndexError",
     "evalue": "list index out of range",
     "output_type": "error",
     "traceback": [
      "\u001b[1;31m---------------------------------------------------------------------------\u001b[0m",
      "\u001b[1;31mIndexError\u001b[0m                                Traceback (most recent call last)",
      "Cell \u001b[1;32mIn[8], line 9\u001b[0m\n\u001b[0;32m      6\u001b[0m     nums[i] \u001b[38;5;241m=\u001b[39m nums[i] \u001b[38;5;241m*\u001b[39m\u001b[38;5;241m*\u001b[39m\u001b[38;5;241m2\u001b[39m\n\u001b[0;32m      8\u001b[0m \u001b[38;5;28;01mwhile\u001b[39;00m l\u001b[38;5;241m<\u001b[39mr :\n\u001b[1;32m----> 9\u001b[0m     \u001b[38;5;28;01mif\u001b[39;00m nums[l] \u001b[38;5;241m<\u001b[39m \u001b[43mnums\u001b[49m\u001b[43m[\u001b[49m\u001b[43mr\u001b[49m\u001b[43m]\u001b[49m:\n\u001b[0;32m     10\u001b[0m         ans\u001b[38;5;241m.\u001b[39mappend(nums[l])\n\u001b[0;32m     11\u001b[0m         l\u001b[38;5;241m+\u001b[39m\u001b[38;5;241m=\u001b[39m\u001b[38;5;241m1\u001b[39m\n",
      "\u001b[1;31mIndexError\u001b[0m: list index out of range"
     ]
    }
   ],
   "source": [
    "nums = [-4,-1,0,3,10]\n",
    "ans = []\n",
    "l = 0\n",
    "r = n  = len(nums)\n",
    "for i in range(n):\n",
    "    nums[i] = nums[i] **2\n",
    "\n",
    "while l<r :\n",
    "    if nums[l] < nums[r]:\n",
    "        ans.append(nums[l])\n",
    "        l+=1\n",
    "    else:\n",
    "        ans.append(nums[r])\n",
    "        r-=1\n",
    "ans"
   ]
  },
  {
   "cell_type": "code",
   "execution_count": 17,
   "id": "4c19e764",
   "metadata": {},
   "outputs": [
    {
     "name": "stdout",
     "output_type": "stream",
     "text": [
      "[-4, -1, -1, 0, 1, 2]\n"
     ]
    }
   ],
   "source": [
    "nums = [-1,0,1,2,-1,-4]\n",
    "arr = nums.copy()\n",
    "arr.sort()\n",
    "print(arr)"
   ]
  },
  {
   "cell_type": "code",
   "execution_count": null,
   "id": "bdd86e64",
   "metadata": {},
   "outputs": [
    {
     "data": {
      "text/plain": [
       "[0, 1, 2, 4, 3, 5, 6]"
      ]
     },
     "execution_count": 4,
     "metadata": {},
     "output_type": "execute_result"
    }
   ],
   "source": [
    "nums = [0,0,1,1,1,1,2,2,4,3,5,6]\n",
    "l = 0\n",
    "\n",
    "nums[:l+1]\n",
    "        "
   ]
  },
  {
   "cell_type": "code",
   "execution_count": null,
   "id": "51d602de",
   "metadata": {},
   "outputs": [],
   "source": []
  }
 ],
 "metadata": {
  "kernelspec": {
   "display_name": "Python 3",
   "language": "python",
   "name": "python3"
  },
  "language_info": {
   "codemirror_mode": {
    "name": "ipython",
    "version": 3
   },
   "file_extension": ".py",
   "mimetype": "text/x-python",
   "name": "python",
   "nbconvert_exporter": "python",
   "pygments_lexer": "ipython3",
   "version": "3.12.1"
  }
 },
 "nbformat": 4,
 "nbformat_minor": 5
}
