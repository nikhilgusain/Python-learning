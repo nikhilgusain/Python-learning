{
 "cells": [
  {
   "cell_type": "code",
   "execution_count": 2,
   "id": "9ed3e6a9",
   "metadata": {},
   "outputs": [],
   "source": [
    "import pandas as pd \n",
    "import numpy as np"
   ]
  },
  {
   "cell_type": "code",
   "execution_count": 21,
   "id": "334f9ae3",
   "metadata": {},
   "outputs": [
    {
     "data": {
      "text/plain": [
       "44.125"
      ]
     },
     "execution_count": 21,
     "metadata": {},
     "output_type": "execute_result"
    }
   ],
   "source": [
    "np.random.seed(1)\n",
    "ar = np.random.randint(0,101, (4,2)).reshape(2,4)\n",
    "ar.mean()\n",
    "# np.mean(ar)"
   ]
  },
  {
   "cell_type": "code",
   "execution_count": 23,
   "id": "1e1574cb",
   "metadata": {},
   "outputs": [
    {
     "name": "stdout",
     "output_type": "stream",
     "text": [
      "              Salary\n",
      "Department          \n",
      "HR           52500.0\n",
      "Tech         77500.0\n",
      "nik         400000.0\n"
     ]
    }
   ],
   "source": [
    "df = pd.DataFrame({\n",
    "    'Department': ['HR', 'Tech', 'HR', 'Tech','nik'],\n",
    "    'Salary': [50000, 80000, 55000, 75000,400000]\n",
    "})\n",
    "\n",
    "# Group by department and compute mean salary\n",
    "print(df.groupby('Department').mean())"
   ]
  },
  {
   "cell_type": "code",
   "execution_count": 25,
   "id": "569d2e9e",
   "metadata": {},
   "outputs": [
    {
     "data": {
      "text/html": [
       "<div>\n",
       "<style scoped>\n",
       "    .dataframe tbody tr th:only-of-type {\n",
       "        vertical-align: middle;\n",
       "    }\n",
       "\n",
       "    .dataframe tbody tr th {\n",
       "        vertical-align: top;\n",
       "    }\n",
       "\n",
       "    .dataframe thead th {\n",
       "        text-align: right;\n",
       "    }\n",
       "</style>\n",
       "<table border=\"1\" class=\"dataframe\">\n",
       "  <thead>\n",
       "    <tr style=\"text-align: right;\">\n",
       "      <th>City</th>\n",
       "      <th>LA</th>\n",
       "      <th>NY</th>\n",
       "    </tr>\n",
       "    <tr>\n",
       "      <th>Date</th>\n",
       "      <th></th>\n",
       "      <th></th>\n",
       "    </tr>\n",
       "  </thead>\n",
       "  <tbody>\n",
       "    <tr>\n",
       "      <th>2023-01-01</th>\n",
       "      <td>75.0</td>\n",
       "      <td>32.0</td>\n",
       "    </tr>\n",
       "    <tr>\n",
       "      <th>2023-01-02</th>\n",
       "      <td>NaN</td>\n",
       "      <td>30.0</td>\n",
       "    </tr>\n",
       "  </tbody>\n",
       "</table>\n",
       "</div>"
      ],
      "text/plain": [
       "City          LA    NY\n",
       "Date                  \n",
       "2023-01-01  75.0  32.0\n",
       "2023-01-02   NaN  30.0"
      ]
     },
     "execution_count": 25,
     "metadata": {},
     "output_type": "execute_result"
    }
   ],
   "source": [
    "df = pd.DataFrame({\n",
    "    'Date': ['2023-01-01', '2023-01-01', '2023-01-02'],\n",
    "    'City': ['NY', 'LA', 'NY'],\n",
    "    'Temperature': [32, 75, 30]\n",
    "})\n",
    "\n",
    "pivot = df.pivot_table(index='Date', columns='City', values='Temperature')\n",
    "pivot"
   ]
  }
 ],
 "metadata": {
  "kernelspec": {
   "display_name": "Python 3",
   "language": "python",
   "name": "python3"
  },
  "language_info": {
   "codemirror_mode": {
    "name": "ipython",
    "version": 3
   },
   "file_extension": ".py",
   "mimetype": "text/x-python",
   "name": "python",
   "nbconvert_exporter": "python",
   "pygments_lexer": "ipython3",
   "version": "3.12.1"
  }
 },
 "nbformat": 4,
 "nbformat_minor": 5
}
