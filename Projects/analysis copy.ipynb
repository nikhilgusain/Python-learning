{
 "cells": [
  {
   "cell_type": "markdown",
   "id": "99baa7e7",
   "metadata": {},
   "source": [
    "# Netflix ratings analysis"
   ]
  },
  {
   "cell_type": "markdown",
   "id": "b2c97aa1",
   "metadata": {},
   "source": [
    "## Introduction\n",
    "This project aims to analyse the ratings of Netflix movies and TV shows.\n",
    "### Dataset \n",
    "The dataset consists of listings of all the movies and tv shows available on Netflix, along with details such as - cast, directors, ratings, release year, duration, etc. as of mid 2021.\n",
    "https://www.kaggle.com/datasets/shivamb/netflix-shows"
   ]
  },
  {
   "cell_type": "code",
   "execution_count": null,
   "id": "8943c342",
   "metadata": {},
   "outputs": [],
   "source": [
    "import numpy as np \n",
    "import pandas as pd \n",
    "import matplotlib.pyplot as plt \n",
    "import seaborn as sns"
   ]
  },
  {
   "cell_type": "markdown",
   "id": "02381144",
   "metadata": {},
   "source": [
    "### Loading data"
   ]
  },
  {
   "cell_type": "code",
   "execution_count": 11,
   "id": "2614c692",
   "metadata": {},
   "outputs": [
    {
     "name": "stdout",
     "output_type": "stream",
     "text": [
      "Data/ Loaded successfully\n"
     ]
    }
   ],
   "source": [
    "try:\n",
    "    df = pd.read_csv(\"netflix_titles.csv\")\n",
    "    print(\"Data/ Loaded successfully\")\n",
    "except FileNotFoundError:\n",
    "    print(\"File 'netflix_titles.csv' not found\")\n",
    "except Exception as e:\n",
    "    print(f\"[ERROR] An unexpected error occurred: {type(e).__name__}: {e}\")"
   ]
  },
  {
   "cell_type": "markdown",
   "id": "23c2b50e",
   "metadata": {},
   "source": [
    "### Data Overview"
   ]
  },
  {
   "cell_type": "code",
   "execution_count": null,
   "id": "159a495e",
   "metadata": {},
   "outputs": [],
   "source": [
    "print(f\"Dimensions:\\t{df.shape}\")\n",
    "print(f\"Total columns:\\t{df.shape[1]}\")\n",
    "print(f\"Total rows:\\t{df.shape[0]}\")\n",
    "print(f\"Column names:\\n{list(df.columns)}\")\n",
    "\n",
    "\n",
    "df.info()\n",
    "display(df.describe())\n",
    "display(df.head(2))\n",
    "display(df.tail(2))"
   ]
  },
  {
   "cell_type": "markdown",
   "id": "767b20d4",
   "metadata": {},
   "source": [
    "### Data Cleaning\n",
    "First convert wrong data types into correct usable ones (e.g. 'duration' from string to time, 'rating' from string to float)"
   ]
  },
  {
   "cell_type": "code",
   "execution_count": null,
   "id": "28b24009",
   "metadata": {},
   "outputs": [],
   "source": [
    "# Duplicate dataframe for recovery\n",
    "dff = df.copy() "
   ]
  },
  {
   "cell_type": "code",
   "execution_count": null,
   "id": "e63036b7",
   "metadata": {},
   "outputs": [],
   "source": [
    "# column wise cleaning\n",
    "\n",
    "# standardize capitalization\n",
    "df['type'] = df['type'].str.strip().str.title()\n",
    "\n",
    "# removing extra whitespace\n",
    "df['title'] = df['title'].str.strip() \n",
    "\n",
    "# Fill empty cells with Unknown\n",
    "df['director'] = df['director'].fillna(\"Unknown\")\n",
    "df['cast'] = df['cast'].fillna(\"Unknown\")\n",
    "\n",
    "# convert from string to datetime\n",
    "df['date_added'] = pd.to_datetime(df['date_added'], errors='coerce')\n",
    "# Leave empty date as they are \n",
    "\n",
    "\n",
    "# fill 'UNKNOWN' to empty cells, remove balnk space, convert to upper case\n",
    "df['rating'] = df['rating'].fillna('UNKNOWN').str.strip().str.upper()\n",
    "\n",
    "# rating column had some values with very few count \n",
    "# replace all of them with 'Other'\n",
    "\n",
    "df_rating_count = df['rating'].value_counts()\n",
    "rare_rating_count = df_rating_count[df_rating_count < 10]\n",
    "rare_rating_categories = rare_rating_count.index\n",
    "df['rating'] = df['rating'].replace(rare_rating_categories, 'Other')\n",
    "df['rating'].value_counts()\n",
    "# since there were only 4 'UNKNOWN' values they were replaced with Other\n",
    "\n"
   ]
  },
  {
   "cell_type": "code",
   "execution_count": null,
   "id": "cf4a9981",
   "metadata": {},
   "outputs": [],
   "source": [
    "# clean remaining columns - duration, listed_in, description\n",
    "# duration column has 'x min' for movies and 'x seasons' for TV shows\n",
    "# create two new columns seaparating them 'duration_time' and 'duration_type' \n",
    "\n",
    "# using column wise sending\n",
    "\n",
    "def extract_time(x):\n",
    "    try:\n",
    "        if pd.isna(x):\n",
    "            return np.nan\n",
    "        return int(x.strip().split()[0])\n",
    "    except Exception:\n",
    "        return np.nan\n",
    "    \n",
    "def extract_type(x):\n",
    "    try:\n",
    "        if pd.isna(x):\n",
    "            return np.nan\n",
    "        else:\n",
    "            return x.strip().split()[1]\n",
    "    except Exception:\n",
    "        return np.nan\n",
    "    \n",
    "df['duration_time'] = df['duration'].apply(extract_time)\n",
    "df['duration_type'] = df['duration'].apply(extract_type)\n",
    "df.head(2)\n"
   ]
  },
  {
   "cell_type": "code",
   "execution_count": null,
   "id": "e6549b5f",
   "metadata": {},
   "outputs": [],
   "source": [
    "# row-wise sending row\n",
    "# creating colums 'duration_time' and 'duration_type' \n",
    "def extract_time(row):\n",
    "    try:\n",
    "        if pd.isna(row['duration']):\n",
    "            return np.nan\n",
    "        else:\n",
    "            return int(row['duration'].strip().split()[0])\n",
    "    except Exception:\n",
    "        return np.nan\n",
    "    \n",
    "def extract_duration(row):\n",
    "    try:\n",
    "        if pd.isna(row['duration']):\n",
    "            return np.nan\n",
    "        else:\n",
    "            return row['duration'].strip().split()[1]\n",
    "    except Exception:\n",
    "        return np.nan\n",
    "\n",
    "df['duration_time'] = df.apply(extract_time, axis=1)\n",
    "df['duration_type'] = df.apply(extract_duration, axis=1)\n",
    "\n",
    "# Standardize duration units \n",
    "# convert mins to min and seasons to season\n",
    "df['duration_type'] = df['duration_type'].replace({\n",
    "    'mins': 'min',\n",
    "    'Seasons': 'Season',\n",
    "    'seasons': 'Season'\n",
    "})\n"
   ]
  },
  {
   "cell_type": "code",
   "execution_count": null,
   "id": "900658eb",
   "metadata": {},
   "outputs": [],
   "source": [
    "df['listed_in'] = df['listed_in'].str.strip()\n",
    "df['description'] = df['description'].str.strip()\n"
   ]
  },
  {
   "cell_type": "code",
   "execution_count": null,
   "id": "ef0724ed",
   "metadata": {},
   "outputs": [],
   "source": [
    "# remove duplicates\n",
    "df.drop_duplicates(inplace=True)\n",
    "df.reset_index(drop=True, inplace=True) #drop used to drop old index\n"
   ]
  },
  {
   "cell_type": "markdown",
   "id": "eddfeab1",
   "metadata": {},
   "source": [
    "### Save cleaned data into new csv file 'netflix_cleaned.csv'"
   ]
  },
  {
   "cell_type": "code",
   "execution_count": null,
   "id": "84bb115f",
   "metadata": {},
   "outputs": [],
   "source": [
    "df.to_csv(\"netflix_cleaned.csv\")"
   ]
  }
 ],
 "metadata": {
  "kernelspec": {
   "display_name": "Python 3",
   "language": "python",
   "name": "python3"
  },
  "language_info": {
   "codemirror_mode": {
    "name": "ipython",
    "version": 3
   },
   "file_extension": ".py",
   "mimetype": "text/x-python",
   "name": "python",
   "nbconvert_exporter": "python",
   "pygments_lexer": "ipython3",
   "version": "3.12.1"
  }
 },
 "nbformat": 4,
 "nbformat_minor": 5
}
